{
 "cells": [
  {
   "cell_type": "markdown",
   "id": "40f8225c-1c93-447e-8480-946022f53bdd",
   "metadata": {},
   "source": [
    "### Amazon WEB SCRAPER Project"
   ]
  },
  {
   "cell_type": "markdown",
   "id": "080e32c2-c6c0-4b0f-9554-ae423b8d6b88",
   "metadata": {},
   "source": [
    "We can scrape data from the websites - in this case we will do it from the Amazon, checking for the specific item title, and its price, adding the timestamp."
   ]
  },
  {
   "cell_type": "code",
   "execution_count": null,
   "id": "43cae487-b4f6-467d-8f3a-b51b767f12cd",
   "metadata": {},
   "outputs": [],
   "source": [
    "from bs4 import BeautifulSoup\n",
    "import requests\n",
    "import time\n",
    "import datetime\n",
    "\n",
    "import smtplib"
   ]
  },
  {
   "cell_type": "code",
   "execution_count": null,
   "id": "5dbda735-2de7-4edd-bd53-f78037e46e47",
   "metadata": {
    "scrolled": true
   },
   "outputs": [],
   "source": [
    "# Connect to Website and pull in data\n",
    "\n",
    "URL = 'https://www.amazon.com/Analyst-Graduate-Career-Professional-Spreadsheet/dp/B0C1MHVRNK?crid=38M8VF4CUD7W&dib=eyJ2IjoiMSJ9.H_xD2LC8KXJb_HUr4wTcfRz4WsWqZJN7MFEpkgKSs7OGVm_AIHbu8EFDvhiDL7s7cys1qVCPcy7a2J-VZvKcv6g-WrZvQost1trWNy_v9cHDKNkfHVDa2k-YGTIVTrS4wgt_vnoEWcapVh9UEPr-B6jtZJrtAW3FFCAHR85DZE7GpTDaRNXY8Kcg1WCN4Y4hVw6LfFBvAqK_rUYUV5auDjFW5tre4xVK88HL4pEFSFlbJGSV2kE7PkMATQszbuMV6eudcNeVsBQt5kxDkDirbyu_nT0PfWtb4QHVsXoABkYT6vQ6NfFdrIxLXB2sz5tdph9piADb39vB4pX7ipCdjJu2sOaoUy_Ug77GnAfJhiy7O24ea2550CvJS0OY1XeDzoEgPeI2GK7z-YJi1-roQqjbIFNQTmYaWdrFWlSIwj3XMT-E-6Ixe6YjgjQTJOEh.6geH-NMRwobNpL1CXAl7_2EL1q8JIXrLGatzk5TGDuk&dib_tag=se&keywords=data%2Banalyst%2Btshirt&qid=1738848630&sprefix=data%2Banalyst%2Btshirt%2Caps%2C172&sr=8-15&th=1&psc=1'\n",
    "\n",
    "headers = {\"User-Agent\": \"Mozilla/5.0 (Windows NT 10.0; Win64; x64) AppleWebKit/537.36 (KHTML, like Gecko) Chrome/78.0.3904.108 Safari/537.36\", \"Accept-Encoding\":\"gzip, deflate\", \"Accept\":\"text/html,application/xhtml+xml,application/xml;q=0.9,*/*;q=0.8\", \"DNT\":\"1\",\"Connection\":\"close\", \"Upgrade-Insecure-Requests\":\"1\"}\n",
    "\n",
    "page = requests.get(URL, headers=headers)\n",
    "\n",
    "soup1 = BeautifulSoup(page.content, 'html.parser')\n",
    "soup2 = BeautifulSoup(soup1.prettify(), 'html.parser')\n",
    "\n",
    "title = soup2.find(id='productTitle').get_text()\n",
    "price = soup2.find(id='corePriceDisplay_desktop_feature_div').get_text()\n",
    "\n",
    "print(title)\n",
    "print(price)"
   ]
  },
  {
   "cell_type": "code",
   "execution_count": 277,
   "id": "64475f0b-00fe-45f9-9890-e0b03ee9edb5",
   "metadata": {},
   "outputs": [
    {
     "name": "stdout",
     "output_type": "stream",
     "text": [
      "\n",
      "                    Data Analyst T Shirt Funny Gift for Bean Counter Graduate Career Professional Numbers Geek Spreadsheet Unisex Tee\n",
      "                   \n"
     ]
    }
   ],
   "source": [
    "#This also works:\n",
    "\n",
    "title_X = soup2.find(name='span', class_='a-size-large product-title-word-break').get_text()\n",
    "print(title_X)"
   ]
  },
  {
   "cell_type": "code",
   "execution_count": null,
   "id": "d04ca2e8-17fb-4330-a6b6-fbe0dbb51e43",
   "metadata": {},
   "outputs": [],
   "source": [
    "#Clean up the data a little\n",
    "\n",
    "title = title.strip()\n",
    "print(title)\n",
    "price = price.strip()[:20]\n",
    "price = price.strip()[1:]\n",
    "print(price)"
   ]
  },
  {
   "cell_type": "code",
   "execution_count": null,
   "id": "49365f2b-93cc-4fc1-a91e-ab69257b6ebd",
   "metadata": {},
   "outputs": [],
   "source": [
    "#Create a Timestamp\n",
    "\n",
    "import datetime\n",
    "\n",
    "today = datetime.date.today()\n",
    "print(today)"
   ]
  },
  {
   "cell_type": "code",
   "execution_count": null,
   "id": "0ad44a5d-1a5e-401b-adc6-a142481e9a6e",
   "metadata": {},
   "outputs": [],
   "source": [
    "#create a new .csv file\n",
    "\n",
    "import csv\n",
    "\n",
    "header = ['Title', 'Price', 'Date']\n",
    "data = [title, price, today]\n",
    "\n",
    "with open('Amazon_WebScraper_Dataset.csv', 'w', newline='', encoding='UTF8') as f:\n",
    "    writer = csv.writer(f)\n",
    "    writer.writerow(header)\n",
    "    writer.writerow(data)"
   ]
  },
  {
   "cell_type": "code",
   "execution_count": null,
   "id": "15d4e37e-ebb3-46ce-a4f7-8c8a81f0e30d",
   "metadata": {},
   "outputs": [],
   "source": [
    "#append data to the .csv file\n",
    "\n",
    "with open('Amazon_WebScraper_Dataset.csv', 'a+', newline='', encoding='UTF8') as f:\t\n",
    "    writer = csv.writer(f)\t\n",
    "    writer.writerow(data)"
   ]
  },
  {
   "cell_type": "code",
   "execution_count": null,
   "id": "6f6a639e-81e5-408b-b5b2-a1c0860a45dc",
   "metadata": {},
   "outputs": [],
   "source": [
    "#create a function to combine above steps and append to .csv\n",
    "\n",
    "def check_price():\n",
    "    URL = 'https://www.amazon.com/Analyst-Graduate-Career-Professional-Spreadsheet/dp/B0C1MHVRNK?crid=38M8VF4CUD7W&dib=eyJ2IjoiMSJ9.H_xD2LC8KXJb_HUr4wTcfRz4WsWqZJN7MFEpkgKSs7OGVm_AIHbu8EFDvhiDL7s7cys1qVCPcy7a2J-VZvKcv6g-WrZvQost1trWNy_v9cHDKNkfHVDa2k-YGTIVTrS4wgt_vnoEWcapVh9UEPr-B6jtZJrtAW3FFCAHR85DZE7GpTDaRNXY8Kcg1WCN4Y4hVw6LfFBvAqK_rUYUV5auDjFW5tre4xVK88HL4pEFSFlbJGSV2kE7PkMATQszbuMV6eudcNeVsBQt5kxDkDirbyu_nT0PfWtb4QHVsXoABkYT6vQ6NfFdrIxLXB2sz5tdph9piADb39vB4pX7ipCdjJu2sOaoUy_Ug77GnAfJhiy7O24ea2550CvJS0OY1XeDzoEgPeI2GK7z-YJi1-roQqjbIFNQTmYaWdrFWlSIwj3XMT-E-6Ixe6YjgjQTJOEh.6geH-NMRwobNpL1CXAl7_2EL1q8JIXrLGatzk5TGDuk&dib_tag=se&keywords=data%2Banalyst%2Btshirt&qid=1738848630&sprefix=data%2Banalyst%2Btshirt%2Caps%2C172&sr=8-15&th=1&psc=1'\n",
    "    headers = {\"User-Agent\": \"Mozilla/5.0 (Windows NT 10.0; Win64; x64) AppleWebKit/537.36 (KHTML, like Gecko) Chrome/78.0.3904.108 Safari/537.36\", \"Accept-Encoding\":\"gzip, deflate\", \"Accept\":\"text/html,application/xhtml+xml,application/xml;q=0.9,*/*;q=0.8\", \"DNT\":\"1\",\"Connection\":\"close\", \"Upgrade-Insecure-Requests\":\"1\"}\n",
    "    page = requests.get(URL, headers=headers)\n",
    "\n",
    "    soup1 = BeautifulSoup(page.content, 'html.parser')\n",
    "    soup2 = BeautifulSoup(soup1.prettify(), 'html.parser')\n",
    "\n",
    "    title = soup2.find(id='productTitle').get_text()\n",
    "    price = soup2.find(id='corePriceDisplay_desktop_feature_div').get_text()\n",
    "\n",
    "    title = title.strip()\n",
    "    price = price.strip()[:20]\n",
    "    price = price.strip()[1:]\n",
    "\n",
    "    import datetime\n",
    "    today = datetime.date.today()\n",
    "\n",
    "    import csv\n",
    "    header = ['Title', 'Price', 'Date']\n",
    "    data = [title, price, today]\n",
    "\n",
    "    with open('Amazon_WebScraper_Dataset.csv', 'a+', newline='', encoding='UTF8') as f:\n",
    "        writer = csv.writer(f)\n",
    "        writer.writerow(data)"
   ]
  },
  {
   "cell_type": "code",
   "execution_count": null,
   "id": "1b2f09ac-e6fc-476e-9529-9a5400227685",
   "metadata": {},
   "outputs": [],
   "source": [
    "#runs the function after a set time and inputs data into .csv file\n",
    "\n",
    "while(True):\n",
    "    check_price()\n",
    "    time.sleep(5)"
   ]
  },
  {
   "cell_type": "code",
   "execution_count": 383,
   "id": "bd8b1766-a986-4e50-95f5-60f314f5f594",
   "metadata": {},
   "outputs": [
    {
     "name": "stdout",
     "output_type": "stream",
     "text": [
      "                                               Title  Price        Date\n",
      "0  Data Analyst T Shirt Funny Gift for Bean Count...  23.97  2025-02-06\n"
     ]
    }
   ],
   "source": [
    "#Checking the result from the .csv file\n",
    "\n",
    "import pandas as pd\n",
    "\n",
    "df = pd.read_csv(r\"D:\\Amazon_WebScraper_Dataset.csv\")\n",
    "print(df)"
   ]
  }
 ],
 "metadata": {
  "kernelspec": {
   "display_name": "Python [conda env:base] *",
   "language": "python",
   "name": "conda-base-py"
  },
  "language_info": {
   "codemirror_mode": {
    "name": "ipython",
    "version": 3
   },
   "file_extension": ".py",
   "mimetype": "text/x-python",
   "name": "python",
   "nbconvert_exporter": "python",
   "pygments_lexer": "ipython3",
   "version": "3.12.7"
  }
 },
 "nbformat": 4,
 "nbformat_minor": 5
}
