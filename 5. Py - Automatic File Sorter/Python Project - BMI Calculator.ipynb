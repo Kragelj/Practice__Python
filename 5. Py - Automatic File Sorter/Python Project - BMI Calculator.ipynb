{
 "cells": [
  {
   "cell_type": "markdown",
   "id": "895c6b63-c6c8-4016-8bcc-2bc079fbb637",
   "metadata": {},
   "source": [
    "### BMI Calculator"
   ]
  },
  {
   "cell_type": "markdown",
   "id": "3e55c7d8-8346-42fd-9d27-ec5eaba7c4f2",
   "metadata": {},
   "source": [
    "Do you think you are in perfect shape?\n",
    "<br>Here you can find a simple BMI calculator, to check your BMI."
   ]
  },
  {
   "cell_type": "code",
   "execution_count": 2,
   "id": "e0527892-38d7-4df4-a60e-c89441b8e809",
   "metadata": {},
   "outputs": [
    {
     "name": "stdin",
     "output_type": "stream",
     "text": [
      " Mickey\n"
     ]
    }
   ],
   "source": [
    "weight = input()"
   ]
  },
  {
   "cell_type": "code",
   "execution_count": 8,
   "id": "47a97e0d-1a4a-4650-bcde-54d9f70419b2",
   "metadata": {},
   "outputs": [
    {
     "name": "stdout",
     "output_type": "stream",
     "text": [
      "170\n"
     ]
    }
   ],
   "source": [
    "print(weight)"
   ]
  },
  {
   "cell_type": "code",
   "execution_count": 32,
   "id": "00119e27-8ee7-4ba4-a994-a8ebf2a9033c",
   "metadata": {},
   "outputs": [
    {
     "name": "stdin",
     "output_type": "stream",
     "text": [
      "Enter your name:  Alex\n",
      "Enter your weight in pounds:  170\n",
      "Enter your height in inches:  69\n"
     ]
    },
    {
     "name": "stdout",
     "output_type": "stream",
     "text": [
      "25.101869355177485\n",
      "Alex, you are overweight.\n"
     ]
    }
   ],
   "source": [
    "name = input('Enter your name: ')\n",
    "weight = int(input('Enter your weight in pounds: '))\n",
    "height = int(input('Enter your height in inches: '))\n",
    "\n",
    "BMI = (weight * 703) / (height * height)\n",
    "print(BMI)\n",
    "\n",
    "if BMI > 0:\n",
    "    if (BMI < 18.5):\n",
    "        print(name + ', you are underweight.')\n",
    "    elif (BMI <= 24.9):\n",
    "        print(name + ', you are normal weight.')\n",
    "    elif (BMI <= 29.9):\n",
    "        print(name + ', you are overweight.')        \n",
    "    elif (BMI <= 34.9):\n",
    "        print(name + ', you are obese.')\n",
    "    elif (BMI <= 39.9):\n",
    "        print(name + ', you are severely obese.')\n",
    "    else:\n",
    "        print(name + ', you are morbidly obese.')\n",
    "else:\n",
    "    print('Enter valid input.')"
   ]
  },
  {
   "cell_type": "code",
   "execution_count": 14,
   "id": "49442962-d15d-491f-9378-3859ad76286b",
   "metadata": {},
   "outputs": [
    {
     "name": "stdin",
     "output_type": "stream",
     "text": [
      "Enter your weight in pounds:  170\n",
      "Enter your height in inches:  69\n"
     ]
    },
    {
     "name": "stdout",
     "output_type": "stream",
     "text": [
      "25.101869355177485\n"
     ]
    }
   ],
   "source": [
    "weight = int(input('Enter your weight in pounds: '))\n",
    "height = int(input('Enter your height in inches: '))\n",
    "\n",
    "BMI = (weight * 703) / (height * height)\n",
    "print(BMI)"
   ]
  },
  {
   "cell_type": "code",
   "execution_count": 20,
   "id": "e60c1ae8-c68a-4930-8e9a-ed373986a828",
   "metadata": {},
   "outputs": [
    {
     "name": "stdout",
     "output_type": "stream",
     "text": [
      "Alex, you are overweight.\n"
     ]
    }
   ],
   "source": [
    "if BMI > 0:\n",
    "    if (BMI < 18.5):\n",
    "        print(name + ', you are underweight.')\n",
    "    elif (BMI <= 24.9):\n",
    "        print(name + ', you are normal weight.')\n",
    "    elif (BMI <= 29.9):\n",
    "        print(name + ', you are overweight.')        \n",
    "    elif (BMI <= 34.9):\n",
    "        print(name + ', you are obese.')\n",
    "    elif (BMI <= 39.9):\n",
    "        print(name + ', you are severely obese.')\n",
    "    else:\n",
    "        print(name + ', you morbidly obese.')\n",
    "else:\n",
    "    print('Enter valid input.')"
   ]
  },
  {
   "cell_type": "code",
   "execution_count": 58,
   "id": "5ae13e56-a255-4960-8101-38b080f6db58",
   "metadata": {},
   "outputs": [
    {
     "name": "stdin",
     "output_type": "stream",
     "text": [
      "Enter your name:  78\n",
      "Enter your height in cm:  78\n",
      "Enter your weight in kg:  78\n"
     ]
    },
    {
     "name": "stdout",
     "output_type": "stream",
     "text": [
      "Your BMI is:  128.2051282051282\n",
      "78, you are morbidly obese.\n"
     ]
    }
   ],
   "source": [
    "name = input('Enter your name: ')\n",
    "height = int(input('Enter your height in cm: '))\n",
    "weight = int(input('Enter your weight in kg: '))\n",
    "\n",
    "BMI = (weight) / (height * height / 10000)\n",
    "print('Your BMI is:', BMI)\n",
    "\n",
    "if BMI > 0:\n",
    "    if (BMI < 18.5):\n",
    "        print(name + ', you are underweight.')\n",
    "    elif (BMI <= 24.9):\n",
    "        print(name + ', you are normal weight.')\n",
    "    elif (BMI <= 29.9):\n",
    "        print(name + ', you are overweight.')        \n",
    "    elif (BMI <= 34.9):\n",
    "        print(name + ', you are obese.')\n",
    "    elif (BMI <= 39.9):\n",
    "        print(name + ', you are severely obese.')\n",
    "    else:\n",
    "        print(name + ', you are morbidly obese.')\n",
    "else:\n",
    "    print('Enter valid input.')"
   ]
  }
 ],
 "metadata": {
  "kernelspec": {
   "display_name": "Python [conda env:base] *",
   "language": "python",
   "name": "conda-base-py"
  },
  "language_info": {
   "codemirror_mode": {
    "name": "ipython",
    "version": 3
   },
   "file_extension": ".py",
   "mimetype": "text/x-python",
   "name": "python",
   "nbconvert_exporter": "python",
   "pygments_lexer": "ipython3",
   "version": "3.12.7"
  }
 },
 "nbformat": 4,
 "nbformat_minor": 5
}
